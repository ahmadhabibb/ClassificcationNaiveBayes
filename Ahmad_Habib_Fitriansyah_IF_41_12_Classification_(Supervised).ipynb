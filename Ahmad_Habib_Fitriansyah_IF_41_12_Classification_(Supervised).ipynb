{
  "nbformat": 4,
  "nbformat_minor": 0,
  "metadata": {
    "colab": {
      "name": "Ahmad Habib Fitriansyah_IF-41-12_Classification (Supervised).ipynb",
      "provenance": [],
      "collapsed_sections": [],
      "toc_visible": true
    },
    "kernelspec": {
      "name": "python3",
      "display_name": "Python 3"
    }
  },
  "cells": [
    {
      "cell_type": "markdown",
      "metadata": {
        "id": "Jt6yT0i3q-JB",
        "colab_type": "text"
      },
      "source": [
        "# **Klasifikasi Room Type berdasarkan Price, Review, Minimum Night, dan Availability**"
      ]
    },
    {
      "cell_type": "markdown",
      "metadata": {
        "id": "Q2XUQ_gSrbOX",
        "colab_type": "text"
      },
      "source": [
        "**Ahmad Habib Fitriansyah || 1301174056 || IF-41-12 || Air Bnb**"
      ]
    },
    {
      "cell_type": "markdown",
      "metadata": {
        "id": "elheXSmLr7Bu",
        "colab_type": "text"
      },
      "source": [
        "# Formula Permasalahan"
      ]
    },
    {
      "cell_type": "markdown",
      "metadata": {
        "id": "baTvE9Z5sA1t",
        "colab_type": "text"
      },
      "source": [
        "Pada tabel air bnb terdapat kolom **price, review, minimum night, dan juga availability**. Untuk melalukan klasifikasi room type, saya menggunakan kolom-kolom tersebut. Metode yang digunakan adalah **Naive Bayes.**"
      ]
    },
    {
      "cell_type": "markdown",
      "metadata": {
        "id": "PbJswsjpsm6_",
        "colab_type": "text"
      },
      "source": [
        "# Eksplorasi dan Persiapan Data"
      ]
    },
    {
      "cell_type": "markdown",
      "metadata": {
        "id": "6C4wkHr0sqe7",
        "colab_type": "text"
      },
      "source": [
        "Hal yang dilakukan adalah misahkan setiap kolom **price, review, minimum night, dan juga availability** dan dimasukan ke dalam list yang berbeda. Hal ini dilakukan untuk mempermudah melakukan persiapan data.\n",
        "\n",
        "Selain itu, ada beberapa hal lagi yang dilakukan antara lain :\n",
        "\n",
        "\n",
        "1.   Menghapus data kosong\n",
        "2.   Menghapus data yang terdeteksi sebagai outlier\n",
        "3.   Mengubah label / data target menjadi angka contohnya Private Room = 1 dan lain - lain"
      ]
    },
    {
      "cell_type": "markdown",
      "metadata": {
        "id": "1qo6asnHu-hr",
        "colab_type": "text"
      },
      "source": [
        "# Pemodelan"
      ]
    },
    {
      "cell_type": "markdown",
      "metadata": {
        "id": "A-0D44OgnSAm",
        "colab_type": "text"
      },
      "source": [
        "Dataset yang digunakan adalah Air_bnb.csv, dataset tersebut saya panggil dari Google Drive"
      ]
    },
    {
      "cell_type": "markdown",
      "metadata": {
        "id": "rDlQjsCrpuNI",
        "colab_type": "text"
      },
      "source": [
        "# **Import**"
      ]
    },
    {
      "cell_type": "code",
      "metadata": {
        "id": "G-iV4-n-pgLv",
        "colab_type": "code",
        "outputId": "475453d5-bef5-45d3-eb44-b0c57ab650b0",
        "colab": {
          "base_uri": "https://localhost:8080/",
          "height": 122
        }
      },
      "source": [
        "from google.colab import drive\n",
        "drive.mount('/content/drive')\n",
        "\n",
        "import pandas as pd\n",
        "import numpy as np\n",
        "import csv\n",
        "import math\n",
        "import statistics\n",
        "from sklearn import preprocessing\n",
        "from sklearn.preprocessing import MinMaxScaler\n",
        "from matplotlib import pyplot as plt \n",
        "from sklearn.model_selection import train_test_split\n",
        "\n",
        "# Ahmad Habib Fitriansyah\n",
        "# Metro, Indonesia\n",
        "# Tuesday, 03 March 2020, 20:01 PM"
      ],
      "execution_count": 1,
      "outputs": [
        {
          "output_type": "stream",
          "text": [
            "Go to this URL in a browser: https://accounts.google.com/o/oauth2/auth?client_id=947318989803-6bn6qk8qdgf4n4g3pfee6491hc0brc4i.apps.googleusercontent.com&redirect_uri=urn%3aietf%3awg%3aoauth%3a2.0%3aoob&response_type=code&scope=email%20https%3a%2f%2fwww.googleapis.com%2fauth%2fdocs.test%20https%3a%2f%2fwww.googleapis.com%2fauth%2fdrive%20https%3a%2f%2fwww.googleapis.com%2fauth%2fdrive.photos.readonly%20https%3a%2f%2fwww.googleapis.com%2fauth%2fpeopleapi.readonly\n",
            "\n",
            "Enter your authorization code:\n",
            "··········\n",
            "Mounted at /content/drive\n"
          ],
          "name": "stdout"
        }
      ]
    },
    {
      "cell_type": "markdown",
      "metadata": {
        "id": "JT39DZhfqOly",
        "colab_type": "text"
      },
      "source": [
        "**Read Dataset**"
      ]
    },
    {
      "cell_type": "code",
      "metadata": {
        "id": "ky9aSC5xqQYU",
        "colab_type": "code",
        "colab": {}
      },
      "source": [
        "def readDataset():\n",
        "  price = []\n",
        "  review = []\n",
        "  minimumNight = []\n",
        "  availability = []\n",
        "  roomType = []\n",
        "  a = [] # PRICE\n",
        "  b = [] # MINIMUM NIGHT\n",
        "  c = [] # REVIEW\n",
        "  d = [] # AVAILABILITY\n",
        "  e = [] # ROOM TYPE\n",
        "\n",
        "  # Case 1 = price, minimum night, review per month, availability\n",
        "\n",
        "  with open('/content/drive/My Drive/Machine Learning/air_bnb.csv', mode='r') as csv_input:\n",
        "        data = csv.reader(csv_input)\n",
        "        next(data)\n",
        "        for row in data:\n",
        "            a.append(row[9])\n",
        "            b.append(row[10])\n",
        "            c.append(row[13])\n",
        "            d.append(row[15])\n",
        "            e.append(row[8])\n",
        "\n",
        "  # Memasukan tabel price ke list bertujuan untuk memisahkan antar kolom yg ingin diambil\n",
        "  for i in range(len(a)):\n",
        "    price.append(int(a[i]))\n",
        "\n",
        "  # Memasukan tabel minimum night ke list bertujuan untuk memisahkan antar kolom yg ingin diambil\n",
        "  for j in range(len(b)):\n",
        "    minimumNight.append(int(b[j]))\n",
        "\n",
        "  # Memasukan tabel review ke list bertujuan untuk memisahkan antar kolom yg ingin diambil\n",
        "  for k in range(len(c)):\n",
        "    review.append(c[k])\n",
        "\n",
        "  # Memasukan tabel availability ke list bertujuan untuk memisahkan antar kolom yg ingin diambil\n",
        "  for l in range(len(d)):\n",
        "    availability.append(int(d[l]))\n",
        "\n",
        "  # Memasukan tabel room type ke list bertujuan untuk memisahkan antar kolom yg ingin diambil\n",
        "  for m in range(len(e)):\n",
        "    roomType.append(e[m])\n",
        "\n",
        "  return price, minimumNight, review, availability, roomType"
      ],
      "execution_count": 0,
      "outputs": []
    },
    {
      "cell_type": "markdown",
      "metadata": {
        "id": "Ld9AQJRW0FOc",
        "colab_type": "text"
      },
      "source": [
        "**Outlier**"
      ]
    },
    {
      "cell_type": "code",
      "metadata": {
        "id": "DMbECyyV0HAv",
        "colab_type": "code",
        "colab": {}
      },
      "source": [
        "def outlier(price, minNight, review, availability, roomType):\n",
        "\n",
        "  # Kodingan ini digunakan untuk mendeteksi outlier. Jika sebuah data melebihi outliernya, maka data tersebut dihapus\n",
        "\n",
        "  an_array_price = np.array(price) # memasukan data price kedalam array\n",
        "  mean = np.mean(an_array_price) \n",
        "  standard_deviation = np.std(an_array_price)\n",
        "  distance_from_mean = abs(an_array_price - mean)\n",
        "  max_deviations = 2\n",
        "  not_outlier_price = distance_from_mean < max_deviations * standard_deviation\n",
        "\n",
        "  an_array_minNight = np.array(minNight)\n",
        "  mean = np.mean(an_array_minNight)\n",
        "  standard_deviation = np.std(an_array_minNight)\n",
        "  distance_from_mean = abs(an_array_minNight - mean)\n",
        "  max_deviations = 2\n",
        "  not_outlier_minNight = distance_from_mean < max_deviations * standard_deviation\n",
        "\n",
        "  an_array_review = np.array(review)\n",
        "  mean = np.mean(an_array_review)\n",
        "  standard_deviation = np.std(an_array_review)\n",
        "  distance_from_mean = abs(an_array_review - mean)\n",
        "  max_deviations = 2\n",
        "  not_outlier_review = distance_from_mean < max_deviations * standard_deviation\n",
        "\n",
        "  an_array_availa = np.array(availability)\n",
        "  mean = np.mean(an_array_availa)\n",
        "  standard_deviation = np.std(an_array_availa)\n",
        "  distance_from_mean = abs(an_array_availa - mean)\n",
        "  max_deviations = 2\n",
        "  not_outlier_availa = distance_from_mean < max_deviations * standard_deviation\n",
        "\n",
        "  an_array_roomType = np.array(roomType)\n",
        "    \n",
        "  no_outliers_review = []\n",
        "  no_outliers_minNight = []\n",
        "  no_outliers_price = []\n",
        "  no_outliers_availa = []\n",
        "  no_outliers_roomType = []\n",
        "\n",
        "  for nn in range(len(review)):\n",
        "    if (not_outlier_price[nn] == True) and (not_outlier_review[nn] == True) and (not_outlier_minNight[nn] == True) and (not_outlier_availa[nn] == True):\n",
        "      no_outliers_review.append(an_array_review[nn])\n",
        "      no_outliers_price.append(an_array_price[nn])\n",
        "      no_outliers_minNight.append(an_array_minNight[nn])\n",
        "      no_outliers_availa.append(an_array_availa[nn])\n",
        "      no_outliers_roomType.append(roomType[nn])\n",
        "\n",
        "  return no_outliers_price, no_outliers_minNight, no_outliers_review, no_outliers_availa, no_outliers_roomType"
      ],
      "execution_count": 0,
      "outputs": []
    },
    {
      "cell_type": "markdown",
      "metadata": {
        "id": "Zxe1kOhFziFf",
        "colab_type": "text"
      },
      "source": [
        "**Scaling : Using Min-Max Normalization to 0-1**"
      ]
    },
    {
      "cell_type": "code",
      "metadata": {
        "id": "nSXboSFxzhkL",
        "colab_type": "code",
        "colab": {}
      },
      "source": [
        "def scalingData(data):\n",
        "\n",
        "  minValue = 9999999\n",
        "  maxValue = 0\n",
        "  newData = []\n",
        "\n",
        "    # Find Max Value\n",
        "  for i in range(len(data)):\n",
        "    if maxValue < data[i]:\n",
        "      maxValue = data[i]\n",
        "    \n",
        "    # Find Min Value\n",
        "  for j in range(len(data)):\n",
        "    if minValue > data[j]:\n",
        "      minValue = data[j]\n",
        "\n",
        "    # Min-Max Normalization\n",
        "  for k in range(len(data)):\n",
        "    temp = (data[k] - minValue) / (maxValue - minValue)\n",
        "    newData.append(temp)\n",
        "\n",
        "  return newData\n"
      ],
      "execution_count": 0,
      "outputs": []
    },
    {
      "cell_type": "markdown",
      "metadata": {
        "id": "fwCfprSQSIvV",
        "colab_type": "text"
      },
      "source": [
        "**Insert data to an array**"
      ]
    },
    {
      "cell_type": "code",
      "metadata": {
        "id": "AIkWH0IESNtI",
        "colab_type": "code",
        "colab": {}
      },
      "source": [
        "def groupingData(price, minNight, review, availa):\n",
        "  data = []\n",
        "\n",
        "  # Memasukan data price, minNight, review, availa ke-i kedalam list 2 dimensi\n",
        "  for ab in range(len(price)):\n",
        "    dataTemp = []\n",
        "    dataTemp.append(price[ab])\n",
        "    dataTemp.append(minNight[ab])\n",
        "    dataTemp.append(review[ab])\n",
        "    dataTemp.append(availa[ab])\n",
        "    data.append(dataTemp)\n",
        "  \n",
        "  return data"
      ],
      "execution_count": 0,
      "outputs": []
    },
    {
      "cell_type": "markdown",
      "metadata": {
        "id": "c-YSTnXCTPLL",
        "colab_type": "text"
      },
      "source": [
        "**Insert label to an array**"
      ]
    },
    {
      "cell_type": "code",
      "metadata": {
        "id": "zLmceKT4TS7Z",
        "colab_type": "code",
        "colab": {}
      },
      "source": [
        "def groupingLabel(data):\n",
        "  label = []\n",
        "  # Memasukan data label list \n",
        "  for i in range(len(data)):\n",
        "    label.append(data[i])\n",
        "\n",
        "  return label"
      ],
      "execution_count": 0,
      "outputs": []
    },
    {
      "cell_type": "markdown",
      "metadata": {
        "id": "4wx4hzK6lMCP",
        "colab_type": "text"
      },
      "source": [
        "**Convert Label to Binary**"
      ]
    },
    {
      "cell_type": "code",
      "metadata": {
        "id": "3U5nyTHmawik",
        "colab_type": "code",
        "colab": {}
      },
      "source": [
        "def convertBinary(data):\n",
        "\n",
        "  # Convert label menjadi 0 atau 1 atau 2\n",
        "  lb = preprocessing.LabelEncoder()\n",
        "  lbData = lb.fit_transform(data)\n",
        "\n",
        "  return lbData"
      ],
      "execution_count": 0,
      "outputs": []
    },
    {
      "cell_type": "markdown",
      "metadata": {
        "id": "2EAEht6nzt5q",
        "colab_type": "text"
      },
      "source": [
        "# **Main**"
      ]
    },
    {
      "cell_type": "markdown",
      "metadata": {
        "id": "98A8VdVNdzdU",
        "colab_type": "text"
      },
      "source": [
        "**Read Dataset**"
      ]
    },
    {
      "cell_type": "code",
      "metadata": {
        "id": "O7ipg2NTd2zC",
        "colab_type": "code",
        "outputId": "e1109914-9cf7-484a-f91b-a09da556c17e",
        "colab": {
          "base_uri": "https://localhost:8080/",
          "height": 34
        }
      },
      "source": [
        "# Read Dataset\n",
        "a, b, c, d, e = readDataset()\n",
        "\n",
        "print(\"Panjang Data :\", len(a), len(b), len(c), len(d), len(e))"
      ],
      "execution_count": 8,
      "outputs": [
        {
          "output_type": "stream",
          "text": [
            "Panjang Data : 22552 22552 22552 22552 22552\n"
          ],
          "name": "stdout"
        }
      ]
    },
    {
      "cell_type": "markdown",
      "metadata": {
        "id": "gwvSe5kneDZQ",
        "colab_type": "text"
      },
      "source": [
        "**Remove Empty Data**"
      ]
    },
    {
      "cell_type": "markdown",
      "metadata": {
        "id": "bzcOu9eOVHua",
        "colab_type": "text"
      },
      "source": [
        "Menghapus data kosong yang ada di kolom"
      ]
    },
    {
      "cell_type": "code",
      "metadata": {
        "id": "nwy0_94SeFkn",
        "colab_type": "code",
        "outputId": "b44959d6-342b-46ef-bf00-6d44b0e4a9ed",
        "colab": {
          "base_uri": "https://localhost:8080/",
          "height": 34
        }
      },
      "source": [
        "tempPrice = []\n",
        "tempMinNight = []\n",
        "tempReview = []\n",
        "tempAvaila = []\n",
        "tempRoomType = []\n",
        "  \n",
        "# Remove empty data\n",
        "for i in range(len(b)):\n",
        "  if a[i] != '' and b[i] != '' and c[i] != '' and d[i] != '' and e[i] != '':\n",
        "    tempPrice.append(a[i])\n",
        "    tempMinNight.append(b[i])\n",
        "    tempReview.append(float(c[i]))\n",
        "    tempAvaila.append(d[i])\n",
        "    tempRoomType.append(e[i])\n",
        "\n",
        "print(\"Panjang Data :\", len(tempPrice), len(tempMinNight), len(tempReview), len(tempAvaila), len(tempRoomType))"
      ],
      "execution_count": 9,
      "outputs": [
        {
          "output_type": "stream",
          "text": [
            "Panjang Data : 18638 18638 18638 18638 18638\n"
          ],
          "name": "stdout"
        }
      ]
    },
    {
      "cell_type": "markdown",
      "metadata": {
        "id": "-lV8-0Nhejg9",
        "colab_type": "text"
      },
      "source": [
        "**Outlier**"
      ]
    },
    {
      "cell_type": "code",
      "metadata": {
        "id": "5j4ts0nUekqJ",
        "colab_type": "code",
        "outputId": "f51ecc1b-47db-4b40-ff5f-55bc73674836",
        "colab": {
          "base_uri": "https://localhost:8080/",
          "height": 34
        }
      },
      "source": [
        "no_outliers_price, no_outliers_minNight, no_outliers_review, no_outliers_availa, no_outliers_roomType = outlier(tempPrice, tempMinNight, tempReview, tempAvaila, tempRoomType)\n",
        "\n",
        "print(\"Panjang Data :\", len(no_outliers_price), len(no_outliers_minNight), len(no_outliers_review), len(no_outliers_availa), len(no_outliers_roomType))"
      ],
      "execution_count": 10,
      "outputs": [
        {
          "output_type": "stream",
          "text": [
            "Panjang Data : 16220 16220 16220 16220 16220\n"
          ],
          "name": "stdout"
        }
      ]
    },
    {
      "cell_type": "markdown",
      "metadata": {
        "id": "MvT_aZ_7e13B",
        "colab_type": "text"
      },
      "source": [
        "**Scaling**\n",
        "\n",
        "Scaling dilakukan untuk menyamaratakan range dari setiap kolom. Metode yang digunakan adalah **Min-Max Scaler**"
      ]
    },
    {
      "cell_type": "code",
      "metadata": {
        "id": "uu2U8YcEe3S9",
        "colab_type": "code",
        "colab": {}
      },
      "source": [
        "newDataPrice = scalingData(no_outliers_price)\n",
        "newDataReview = scalingData(no_outliers_review)\n",
        "newDataMinNight = scalingData(no_outliers_minNight)\n",
        "newDataAvaila = scalingData(no_outliers_availa)\n",
        "\n",
        "# RoomType tidak di scaling karena itu adalah sebuah text"
      ],
      "execution_count": 0,
      "outputs": []
    },
    {
      "cell_type": "markdown",
      "metadata": {
        "id": "vauuctN5fLZ8",
        "colab_type": "text"
      },
      "source": [
        "**Split Dataset 80% Train 20% Test**\n",
        "\n",
        "Memisahkand data menjadi 80% data train dan 20% data test"
      ]
    },
    {
      "cell_type": "code",
      "metadata": {
        "id": "PgAacbOJfOV8",
        "colab_type": "code",
        "outputId": "43fdd900-120a-4a95-f728-d27fb7ea07c0",
        "colab": {
          "base_uri": "https://localhost:8080/",
          "height": 51
        }
      },
      "source": [
        "priceTrain, priceTest, minNightTrain, minNightTest, reviewTrain, reviewTest, availaTrain, availaTest, roomTypeTrain, roomTypeTest = train_test_split(newDataPrice, newDataMinNight, newDataReview, newDataAvaila, no_outliers_roomType, test_size = 0.2, random_state = 0)\n",
        "\n",
        "print(\"Panjang Data Train :\", len(priceTrain))\n",
        "print(\"Panjang Data Label :\", len(priceTest))"
      ],
      "execution_count": 12,
      "outputs": [
        {
          "output_type": "stream",
          "text": [
            "Panjang Data Train : 12976\n",
            "Panjang Data Label : 3244\n"
          ],
          "name": "stdout"
        }
      ]
    },
    {
      "cell_type": "markdown",
      "metadata": {
        "id": "137bAsnVhNrQ",
        "colab_type": "text"
      },
      "source": [
        "**Convert Label to Integer**\n",
        "\n",
        "Mengubah label menjadi 0 atau 1 atau 2"
      ]
    },
    {
      "cell_type": "code",
      "metadata": {
        "id": "nrJkyAH5hRf_",
        "colab_type": "code",
        "outputId": "f59a8af4-dfc7-4bd7-a522-7b2c9ff655a4",
        "colab": {
          "base_uri": "https://localhost:8080/",
          "height": 34
        }
      },
      "source": [
        "lbTrain = convertBinary(roomTypeTrain)\n",
        "lbTest = convertBinary(roomTypeTest)\n",
        "\n",
        "print(lbTrain)"
      ],
      "execution_count": 13,
      "outputs": [
        {
          "output_type": "stream",
          "text": [
            "[0 0 1 ... 0 1 1]\n"
          ],
          "name": "stdout"
        }
      ]
    },
    {
      "cell_type": "markdown",
      "metadata": {
        "id": "6bAcNqvshZEg",
        "colab_type": "text"
      },
      "source": [
        "**Grouping Data and Label**\n",
        "\n",
        "Mengabungkan data yang terdiri dati price, minNight, review, dan availability kedalam list"
      ]
    },
    {
      "cell_type": "code",
      "metadata": {
        "id": "KORXV366hbvn",
        "colab_type": "code",
        "outputId": "858319a8-85f1-4567-cf44-f8a15a1a93e4",
        "colab": {
          "base_uri": "https://localhost:8080/",
          "height": 51
        }
      },
      "source": [
        "dataTrain = groupingData(priceTrain, minNightTrain, reviewTrain, availaTrain)\n",
        "dataTest = groupingData(priceTest, minNightTest, reviewTest, availaTest)\n",
        "labelTrain = groupingLabel(lbTrain)\n",
        "labelTest = groupingLabel(lbTest)\n",
        "\n",
        "print(\"Isi Data Train Ke-1  :\", dataTrain[0])\n",
        "print(\"Isi Data Test Ke-1   :\", labelTrain[0])"
      ],
      "execution_count": 14,
      "outputs": [
        {
          "output_type": "stream",
          "text": [
            "Isi Data Train Ke-1  : [0.14473684210526316, 0.02197802197802198, 0.2397094430992736, 0.03076923076923077]\n",
            "Isi Data Test Ke-1   : 0\n"
          ],
          "name": "stdout"
        }
      ]
    },
    {
      "cell_type": "markdown",
      "metadata": {
        "id": "_8xadkGx7gn4",
        "colab_type": "text"
      },
      "source": [
        "# Evaluasi"
      ]
    },
    {
      "cell_type": "markdown",
      "metadata": {
        "id": "_eqWCjOowC5R",
        "colab_type": "text"
      },
      "source": [
        "**Klasifikasi**\n",
        "\n",
        "Metode yang dilakukan adalah **Naive Bayes**"
      ]
    },
    {
      "cell_type": "code",
      "metadata": {
        "id": "Ow0QG0yDVSaz",
        "colab_type": "code",
        "colab": {}
      },
      "source": [
        "# Import Gaussian Naive Bayes model\n",
        "from sklearn.naive_bayes import GaussianNB\n",
        "\n",
        "#Create a Gaussian Classifier\n",
        "gnb = GaussianNB()\n",
        "\n",
        "#Train the model using the training sets\n",
        "gnb.fit(dataTrain, labelTrain)\n",
        "\n",
        "#Predict the response for test dataset\n",
        "labelPred = gnb.predict(dataTest)"
      ],
      "execution_count": 0,
      "outputs": []
    },
    {
      "cell_type": "code",
      "metadata": {
        "id": "UM70_vAT57iW",
        "colab_type": "code",
        "outputId": "297c5e1f-8263-40c1-df43-b3066863376a",
        "colab": {
          "base_uri": "https://localhost:8080/",
          "height": 34
        }
      },
      "source": [
        "# Import scikit-learn metrics module for accuracy calculation\n",
        "from sklearn import metrics\n",
        "\n",
        "# Model Accuracy, how often is the classifier correct?\n",
        "print(\"Akurasi :\",metrics.accuracy_score(labelTest, labelPred))"
      ],
      "execution_count": 16,
      "outputs": [
        {
          "output_type": "stream",
          "text": [
            "Akurasi : 0.6963625154130703\n"
          ],
          "name": "stdout"
        }
      ]
    },
    {
      "cell_type": "markdown",
      "metadata": {
        "id": "-RDT0VbdwYSx",
        "colab_type": "text"
      },
      "source": [
        "Akurasi yang didapat sebesar **69,6%**"
      ]
    },
    {
      "cell_type": "markdown",
      "metadata": {
        "id": "rLSpr2QIwgAo",
        "colab_type": "text"
      },
      "source": [
        "# Eksperimen"
      ]
    },
    {
      "cell_type": "markdown",
      "metadata": {
        "id": "zDT4pUvnwkjg",
        "colab_type": "text"
      },
      "source": [
        "Eksperimen yang dilakuan adalah :\n",
        "\n",
        "**1. Tidak melakukan Deteksi Outlier**"
      ]
    },
    {
      "cell_type": "markdown",
      "metadata": {
        "id": "iQFuBvTZxPzK",
        "colab_type": "text"
      },
      "source": [
        "Read Data"
      ]
    },
    {
      "cell_type": "code",
      "metadata": {
        "colab_type": "code",
        "outputId": "f5634a3d-39c0-48a1-c561-e3d3dfda3af9",
        "id": "6SWlmSNaw9E3",
        "colab": {
          "base_uri": "https://localhost:8080/",
          "height": 34
        }
      },
      "source": [
        "# Read Dataset\n",
        "a1, b1, c1, d1, e1 = readDataset()\n",
        "\n",
        "print(\"Panjang Data :\", len(a1), len(b1), len(c1), len(d1), len(e1))"
      ],
      "execution_count": 17,
      "outputs": [
        {
          "output_type": "stream",
          "text": [
            "Panjang Data : 22552 22552 22552 22552 22552\n"
          ],
          "name": "stdout"
        }
      ]
    },
    {
      "cell_type": "markdown",
      "metadata": {
        "id": "vohC8_aPxSc-",
        "colab_type": "text"
      },
      "source": [
        "Remove Data Empty"
      ]
    },
    {
      "cell_type": "code",
      "metadata": {
        "colab_type": "code",
        "outputId": "0ec06236-ffe1-4e3f-97fd-df5a3a52c847",
        "id": "9OmYeCFVxG94",
        "colab": {
          "base_uri": "https://localhost:8080/",
          "height": 34
        }
      },
      "source": [
        "tempPrice1 = []\n",
        "tempMinNight1 = []\n",
        "tempReview1 = []\n",
        "tempAvaila1 = []\n",
        "tempRoomType1 = []\n",
        "  \n",
        "# Remove empty data\n",
        "for i in range(len(b1)):\n",
        "  if a1[i] != '' and b1[i] != '' and c1[i] != '' and d1[i] != '' and e1[i] != '':\n",
        "    tempPrice1.append(a1[i])\n",
        "    tempMinNight1.append(b1[i])\n",
        "    tempReview1.append(float(c1[i]))\n",
        "    tempAvaila1.append(d1[i])\n",
        "    tempRoomType1.append(e1[i])\n",
        "\n",
        "print(\"Panjang Data :\", len(tempPrice1), len(tempMinNight1), len(tempReview1), len(tempAvaila1), len(tempRoomType1))"
      ],
      "execution_count": 18,
      "outputs": [
        {
          "output_type": "stream",
          "text": [
            "Panjang Data : 18638 18638 18638 18638 18638\n"
          ],
          "name": "stdout"
        }
      ]
    },
    {
      "cell_type": "markdown",
      "metadata": {
        "id": "s9k0g7znxU2i",
        "colab_type": "text"
      },
      "source": [
        "Scaling"
      ]
    },
    {
      "cell_type": "code",
      "metadata": {
        "id": "75d1ko4xxOPn",
        "colab_type": "code",
        "colab": {}
      },
      "source": [
        "newDataPrice1 = scalingData(tempPrice1)\n",
        "newDataReview1 = scalingData(tempReview1)\n",
        "newDataMinNight1 = scalingData(tempMinNight1)\n",
        "newDataAvaila1 = scalingData(tempAvaila1)\n",
        "\n",
        "# RoomType tidak di scaling karena itu adalah sebuah text"
      ],
      "execution_count": 0,
      "outputs": []
    },
    {
      "cell_type": "markdown",
      "metadata": {
        "id": "uAkGxH7hxejO",
        "colab_type": "text"
      },
      "source": [
        "Split Data 80% dan 20%"
      ]
    },
    {
      "cell_type": "code",
      "metadata": {
        "id": "fXcnQDGKxhXH",
        "colab_type": "code",
        "outputId": "6c05a8b2-7462-4a83-df1f-37a28b18b003",
        "colab": {
          "base_uri": "https://localhost:8080/",
          "height": 51
        }
      },
      "source": [
        "priceTrain1, priceTest1, minNightTrain1, minNightTest1, reviewTrain1, reviewTest1, availaTrain1, availaTest1, roomTypeTrain1, roomTypeTest1 = train_test_split(newDataPrice1, newDataMinNight1, newDataReview1, newDataAvaila1, tempRoomType1, test_size = 0.2, random_state = 0)\n",
        "\n",
        "print(\"Panjang Data Train :\", len(priceTrain))\n",
        "print(\"Panjang Data Label :\", len(priceTest))"
      ],
      "execution_count": 20,
      "outputs": [
        {
          "output_type": "stream",
          "text": [
            "Panjang Data Train : 12976\n",
            "Panjang Data Label : 3244\n"
          ],
          "name": "stdout"
        }
      ]
    },
    {
      "cell_type": "markdown",
      "metadata": {
        "id": "8Rv8tptbxnZJ",
        "colab_type": "text"
      },
      "source": [
        "Convert Label to Integer"
      ]
    },
    {
      "cell_type": "code",
      "metadata": {
        "id": "tkMqJdiyxq4z",
        "colab_type": "code",
        "outputId": "ff9eefa4-cd47-456d-ef72-13809d294c46",
        "colab": {
          "base_uri": "https://localhost:8080/",
          "height": 34
        }
      },
      "source": [
        "lbTrain1 = convertBinary(roomTypeTrain1)\n",
        "lbTest1 = convertBinary(roomTypeTest1)\n",
        "\n",
        "print(lbTrain1)"
      ],
      "execution_count": 21,
      "outputs": [
        {
          "output_type": "stream",
          "text": [
            "[1 0 1 ... 0 0 1]\n"
          ],
          "name": "stdout"
        }
      ]
    },
    {
      "cell_type": "markdown",
      "metadata": {
        "id": "4SvsxL9YxuQ4",
        "colab_type": "text"
      },
      "source": [
        "Grouping Data"
      ]
    },
    {
      "cell_type": "code",
      "metadata": {
        "id": "RyK2MRz7xwVl",
        "colab_type": "code",
        "outputId": "072a8802-2d21-41d0-abe1-b1765962de58",
        "colab": {
          "base_uri": "https://localhost:8080/",
          "height": 51
        }
      },
      "source": [
        "dataTrain1 = groupingData(priceTrain1, minNightTrain1, reviewTrain1, availaTrain1)\n",
        "dataTest1 = groupingData(priceTest1, minNightTest1, reviewTest1, availaTest1)\n",
        "labelTrain1 = groupingLabel(lbTrain1)\n",
        "labelTest1 = groupingLabel(lbTest1)\n",
        "\n",
        "print(\"Isi Data Train Ke-1  :\", dataTrain1[0])\n",
        "print(\"Isi Data Test Ke-1   :\", labelTrain1[0])"
      ],
      "execution_count": 22,
      "outputs": [
        {
          "output_type": "stream",
          "text": [
            "Isi Data Train Ke-1  : [0.002, 0.0058011602320464095, 0.005455537370430986, 0.09863013698630137]\n",
            "Isi Data Test Ke-1   : 1\n"
          ],
          "name": "stdout"
        }
      ]
    },
    {
      "cell_type": "markdown",
      "metadata": {
        "id": "v7_aah8uxzps",
        "colab_type": "text"
      },
      "source": [
        "Klasifikasi"
      ]
    },
    {
      "cell_type": "code",
      "metadata": {
        "id": "UYhxiXQUx0o3",
        "colab_type": "code",
        "outputId": "f2a3c947-259f-4713-8d4b-1ed7e0fd2950",
        "colab": {
          "base_uri": "https://localhost:8080/",
          "height": 34
        }
      },
      "source": [
        "# Import Gaussian Naive Bayes model\n",
        "from sklearn.naive_bayes import GaussianNB\n",
        "\n",
        "#Create a Gaussian Classifier\n",
        "gnb = GaussianNB()\n",
        "\n",
        "#Train the model using the training sets\n",
        "gnb.fit(dataTrain1, labelTrain1)\n",
        "\n",
        "#Predict the response for test dataset\n",
        "labelPred1 = gnb.predict(dataTest1)\n",
        "\n",
        "# Import scikit-learn metrics module for accuracy calculation\n",
        "from sklearn import metrics\n",
        "\n",
        "# Model Accuracy, how often is the classifier correct?\n",
        "print(\"Akurasi :\",metrics.accuracy_score(labelTest1, labelPred1))"
      ],
      "execution_count": 23,
      "outputs": [
        {
          "output_type": "stream",
          "text": [
            "Akurasi : 0.48256437768240346\n"
          ],
          "name": "stdout"
        }
      ]
    },
    {
      "cell_type": "markdown",
      "metadata": {
        "id": "x7GQq-0A5N0V",
        "colab_type": "text"
      },
      "source": [
        "Akurasi yang didapat sebesar **49,25%**"
      ]
    },
    {
      "cell_type": "markdown",
      "metadata": {
        "id": "Cnh3s8bb3cfg",
        "colab_type": "text"
      },
      "source": [
        "**2. Tidak melakukan Scaling**"
      ]
    },
    {
      "cell_type": "markdown",
      "metadata": {
        "colab_type": "text",
        "id": "6BXkVh9z3ou7"
      },
      "source": [
        "Read Data"
      ]
    },
    {
      "cell_type": "code",
      "metadata": {
        "id": "vVA7gyQ33qal",
        "colab_type": "code",
        "outputId": "4d34379e-a1ad-4857-ee0e-7f82287ec145",
        "colab": {
          "base_uri": "https://localhost:8080/",
          "height": 34
        }
      },
      "source": [
        "# Read Dataset\n",
        "a2, b2, c2, d2, e2 = readDataset()\n",
        "\n",
        "print(\"Panjang Data :\", len(a2), len(b2), len(c2), len(d2), len(e2))"
      ],
      "execution_count": 24,
      "outputs": [
        {
          "output_type": "stream",
          "text": [
            "Panjang Data : 22552 22552 22552 22552 22552\n"
          ],
          "name": "stdout"
        }
      ]
    },
    {
      "cell_type": "markdown",
      "metadata": {
        "id": "ZWRZwD2i3qsS",
        "colab_type": "text"
      },
      "source": [
        "Remove Empty Data"
      ]
    },
    {
      "cell_type": "code",
      "metadata": {
        "id": "VcvG3orl3-on",
        "colab_type": "code",
        "outputId": "f10fe8a0-0bb8-4bb3-89dd-a6d41bd476c4",
        "colab": {
          "base_uri": "https://localhost:8080/",
          "height": 34
        }
      },
      "source": [
        "tempPrice2 = []\n",
        "tempMinNight2 = []\n",
        "tempReview2 = []\n",
        "tempAvaila2 = []\n",
        "tempRoomType2 = []\n",
        "  \n",
        "# Remove empty data\n",
        "for i in range(len(b)):\n",
        "  if a2[i] != '' and b2[i] != '' and c2[i] != '' and d2[i] != '' and e2[i] != '':\n",
        "    tempPrice2.append(a[i])\n",
        "    tempMinNight2.append(b[i])\n",
        "    tempReview2.append(float(c[i]))\n",
        "    tempAvaila2.append(d[i])\n",
        "    tempRoomType2.append(e[i])\n",
        "\n",
        "print(\"Panjang Data :\", len(tempPrice2), len(tempMinNight2), len(tempReview2), len(tempAvaila2), len(tempRoomType2))"
      ],
      "execution_count": 25,
      "outputs": [
        {
          "output_type": "stream",
          "text": [
            "Panjang Data : 18638 18638 18638 18638 18638\n"
          ],
          "name": "stdout"
        }
      ]
    },
    {
      "cell_type": "markdown",
      "metadata": {
        "id": "ZGwPo0qi4C6W",
        "colab_type": "text"
      },
      "source": [
        "Outlier"
      ]
    },
    {
      "cell_type": "code",
      "metadata": {
        "id": "wL4hMeQU4Ds3",
        "colab_type": "code",
        "outputId": "e20b4a94-18d7-491f-9526-40a4e44d48f7",
        "colab": {
          "base_uri": "https://localhost:8080/",
          "height": 34
        }
      },
      "source": [
        "no_outliers_price2, no_outliers_minNight2, no_outliers_review2, no_outliers_availa2, no_outliers_roomType2 = outlier(tempPrice2, tempMinNight2, tempReview2, tempAvaila2, tempRoomType2)\n",
        "\n",
        "print(\"Panjang Data :\", len(no_outliers_price2), len(no_outliers_minNight2), len(no_outliers_review2), len(no_outliers_availa2), len(no_outliers_roomType2))"
      ],
      "execution_count": 26,
      "outputs": [
        {
          "output_type": "stream",
          "text": [
            "Panjang Data : 16220 16220 16220 16220 16220\n"
          ],
          "name": "stdout"
        }
      ]
    },
    {
      "cell_type": "markdown",
      "metadata": {
        "id": "wOLAFhz44H8c",
        "colab_type": "text"
      },
      "source": [
        "Split Data 80% dan 20%"
      ]
    },
    {
      "cell_type": "code",
      "metadata": {
        "id": "iNRWi9Ou4JUg",
        "colab_type": "code",
        "outputId": "43541bfe-19ca-406a-cc15-d870d17f447b",
        "colab": {
          "base_uri": "https://localhost:8080/",
          "height": 51
        }
      },
      "source": [
        "priceTrain2, priceTest2, minNightTrain2, minNightTest2, reviewTrain2, reviewTest2, availaTrain2, availaTest2, roomTypeTrain2, roomTypeTest2 = train_test_split(no_outliers_price2, no_outliers_minNight2, no_outliers_review2, no_outliers_availa2, no_outliers_roomType2, test_size = 0.2, random_state = 0)\n",
        "\n",
        "print(\"Panjang Data Train :\", len(priceTrain2))\n",
        "print(\"Panjang Data Label :\", len(priceTest2))"
      ],
      "execution_count": 27,
      "outputs": [
        {
          "output_type": "stream",
          "text": [
            "Panjang Data Train : 12976\n",
            "Panjang Data Label : 3244\n"
          ],
          "name": "stdout"
        }
      ]
    },
    {
      "cell_type": "markdown",
      "metadata": {
        "id": "YUBetdaB4NWi",
        "colab_type": "text"
      },
      "source": [
        "Convert Label"
      ]
    },
    {
      "cell_type": "code",
      "metadata": {
        "id": "eviiJ2Xc4Q-y",
        "colab_type": "code",
        "outputId": "e2e3a8c2-f2c6-4c07-b5e2-0701cf5cd2b2",
        "colab": {
          "base_uri": "https://localhost:8080/",
          "height": 34
        }
      },
      "source": [
        "lbTrain2 = convertBinary(roomTypeTrain2)\n",
        "lbTest2 = convertBinary(roomTypeTest2)\n",
        "\n",
        "print(lbTrain2)"
      ],
      "execution_count": 28,
      "outputs": [
        {
          "output_type": "stream",
          "text": [
            "[0 0 1 ... 0 1 1]\n"
          ],
          "name": "stdout"
        }
      ]
    },
    {
      "cell_type": "markdown",
      "metadata": {
        "id": "2Iz_KNSe4Sc2",
        "colab_type": "text"
      },
      "source": [
        "Grouping Data"
      ]
    },
    {
      "cell_type": "code",
      "metadata": {
        "id": "b05_Xjxs4TrA",
        "colab_type": "code",
        "outputId": "ff80b35c-8fe7-4b0a-b5b3-9742c0d2350e",
        "colab": {
          "base_uri": "https://localhost:8080/",
          "height": 51
        }
      },
      "source": [
        "dataTrain2 = groupingData(priceTrain2, minNightTrain2, reviewTrain2, availaTrain2)\n",
        "dataTest2 = groupingData(priceTest2, minNightTest2, reviewTest2, availaTest2)\n",
        "labelTrain2 = groupingLabel(lbTrain2)\n",
        "labelTest2 = groupingLabel(lbTest2)\n",
        "\n",
        "print(\"Isi Data Train Ke-1  :\", dataTrain2[0])\n",
        "print(\"Isi Data Test Ke-1   :\", labelTrain2[0])"
      ],
      "execution_count": 29,
      "outputs": [
        {
          "output_type": "stream",
          "text": [
            "Isi Data Train Ke-1  : [55, 3, 1.0, 10]\n",
            "Isi Data Test Ke-1   : 0\n"
          ],
          "name": "stdout"
        }
      ]
    },
    {
      "cell_type": "markdown",
      "metadata": {
        "id": "rq1IB99y4Wjs",
        "colab_type": "text"
      },
      "source": [
        "Klasifikasi"
      ]
    },
    {
      "cell_type": "code",
      "metadata": {
        "id": "aoFUMboo4YLX",
        "colab_type": "code",
        "outputId": "8207e26a-67f1-4825-e21d-7f1874bac606",
        "colab": {
          "base_uri": "https://localhost:8080/",
          "height": 34
        }
      },
      "source": [
        "# Import Gaussian Naive Bayes model\n",
        "from sklearn.naive_bayes import GaussianNB\n",
        "\n",
        "#Create a Gaussian Classifier\n",
        "gnb = GaussianNB()\n",
        "\n",
        "#Train the model using the training sets\n",
        "gnb.fit(dataTrain2, labelTrain2)\n",
        "\n",
        "#Predict the response for test dataset\n",
        "labelPred2 = gnb.predict(dataTest2)\n",
        "\n",
        "# Import scikit-learn metrics module for accuracy calculation\n",
        "from sklearn import metrics\n",
        "\n",
        "# Model Accuracy, how often is the classifier correct?\n",
        "print(\"Akurasi :\",metrics.accuracy_score(labelTest2, labelPred2))"
      ],
      "execution_count": 30,
      "outputs": [
        {
          "output_type": "stream",
          "text": [
            "Akurasi : 0.6963625154130703\n"
          ],
          "name": "stdout"
        }
      ]
    },
    {
      "cell_type": "markdown",
      "metadata": {
        "id": "ADzOzjuw5RtM",
        "colab_type": "text"
      },
      "source": [
        "Akurasi yang didapat sebesar **69,6%**"
      ]
    },
    {
      "cell_type": "markdown",
      "metadata": {
        "id": "OXoiABxD5TBb",
        "colab_type": "text"
      },
      "source": [
        "# Kesimpulan"
      ]
    },
    {
      "cell_type": "markdown",
      "metadata": {
        "id": "KkiWxmyI5UjV",
        "colab_type": "text"
      },
      "source": [
        "Dari hasil diatas, dapat disimpulkan bahwa Klasifikasi Room Type Berdasarkan Price, Review, Minimum Night, dan Availability berhasil mendapatkan akurasi sebesar **69,6%** dengan data training dan testing 80-20. Dan akurasi **49,25%** untuk klasifikasi tanpa mendeteksi outlier. Selain itu juga, dengan tidak melakukan scaling pada eksperimen ke-2, akurasi yang didapat tetap sama yaitu **69,6%**. Dapat disimpulkan bahwa, mengunakan persiapan data yang berbeda dapat mempengaruhi hasil akurasi yang didapat. Selain, itu teknik scaling tidak mempengaruhi hasil akurasi.\n",
        "\n",
        "Terimakasih"
      ]
    }
  ]
}